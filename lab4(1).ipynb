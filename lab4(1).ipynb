{
 "cells": [
  {
   "cell_type": "markdown",
   "id": "willing-honey",
   "metadata": {},
   "source": [
    "# Лабораторная работа No 1. Аддитивный и мультипликативный шифры.\n",
    "    выполнил Сергей Харитонов ПВ-32 (Вариант 14)\n",
    "\n",
    "# Цель работы\n",
    "    Освоить алгоритмы аддитивного и мультипликативного шифрования; научиться дешифровывать текст с помощью аддитивного и мультипликативного шифров; научиться проводить криптоанализ алгоритмов с помощью статистической атаки.\n",
    "    \n",
    "# Тип шифра \n",
    "    Мультиплкативный"
   ]
  },
  {
   "cell_type": "code",
   "execution_count": 1,
   "id": "frequent-plain",
   "metadata": {},
   "outputs": [],
   "source": [
    "#Алфавит\n",
    "abc = \"абвгдежзийклмнопрстуфхцчшщъыьэюя_\"\n",
    "\n",
    "#Символы алфавита упорядоченные по частоте\n",
    "freq_abc = \"_оеаитнсрвлкмдпуяызьъбгчйхжюшцщэф\"\n",
    "\n",
    "#Зашифрованный текст\n",
    "code_message = \"_ащдгуьпумяздхнцнусазуьуйцвжну_аопхяйяуздцдсэеуеуснияйчаусду_сацауоуьазусду_\" +\\\n",
    "               \"сацауоуйяъэияйяугвщдсэеучвжнусдямпхсяыуьяцсдсэеузгнъньузяуьъдгдсдгуиаиу_сахэ\" +\\\n",
    "               \"умяуздъчлвуеусажцауопучъвйауопцауопуьдъсаеузвмъвйаунучяоъячдхдцэсаеугахэучъв\" +\\\n",
    "               \"йяыусдхусниягвусаузьдхдусдуяхчацауопуздъчлауе\""
   ]
  },
  {
   "cell_type": "code",
   "execution_count": 2,
   "id": "stuffed-brand",
   "metadata": {},
   "outputs": [],
   "source": [
    "class Encoder:\n",
    "    \n",
    "    def __init__(self, abc: str, freq_abc: str):\n",
    "        self.abc = abc\n",
    "        self.freq_abc = freq_abc\n",
    "    \n",
    "    def __decode_symbol(self, symbol: str, key: int) -> str:\n",
    "        abc_pos = abc.index(symbol)\n",
    "        while(abc_pos % key):\n",
    "            abc_pos += len(self.abc)\n",
    "        decode_pos = abc_pos // key % len(self.abc)\n",
    "        return self.abc[decode_pos]\n",
    "        \n",
    "    def __get_key(self, code_symbol: str, symbol: str) -> int:\n",
    "        pos_code_symbol = self.abc.index(code_symbol)\n",
    "        pos_symbol = self.abc.index(symbol)\n",
    "        while(pos_code_symbol % pos_symbol):\n",
    "            pos_code_symbol += len(self.abc)\n",
    "            if pos_code_symbol > 999999:\n",
    "                return 1\n",
    "        key = pos_code_symbol // pos_symbol\n",
    "        return key if key else 1\n",
    "    \n",
    "    def decode(self, message: str, key: int) -> str:\n",
    "        return ''.join([self.__decode_symbol(sym, key) for sym in message])\n",
    "    \n",
    "    @staticmethod\n",
    "    def get_frequencies(message: str) -> str:\n",
    "        freq_arr = [(sym, message.count(sym)) for sym in set(message)]\n",
    "        freq_arr.sort(key=lambda el: el[1], reverse=True)\n",
    "        return freq_arr\n",
    "    \n",
    "    def decode_attack(self, message: str) -> str:\n",
    "        freq_arr = ''.join([el[0] for el in self.get_frequencies(message)])\n",
    "        key_arr = [self.__get_key(code_sym, self.freq_abc[0]) for code_sym in freq_arr]\n",
    "        for key in key_arr:\n",
    "            decode_message = self.decode(message, key)\n",
    "            print(f\"Предположительный ключ: {key}\\n\" +\\\n",
    "                  f\"Предположительный текст: {decode_message}\\n\" +\\\n",
    "                   \"Введите 0 что бы остановить статистический анализ: \")\n",
    "            \n",
    "            flag = input()\n",
    "            if flag == \"0\":\n",
    "                return decode_message\n",
    "        \n",
    "        "
   ]
  },
  {
   "cell_type": "code",
   "execution_count": null,
   "id": "protected-technician",
   "metadata": {},
   "outputs": [
    {
     "name": "stdout",
     "output_type": "stream",
     "text": [
      "Предположительный ключ: 14\n",
      "Предположительный текст: зачем_вы_посетили_нас_в_глуши_забытого_селенья_я_никогда_не_знала_б_вас_не_знала_б_горького_мученья_души_неопытной_волненья_смирив_со_временем_как_знать_по_сердцу_я_нашла_бы_друга_была_бы_верная_супруга_и_добродетельная_мать_другой_нет_никому_на_свете_не_отдала_бы_сердца_я\n",
      "Введите 0 что бы остановить статистический анализ: \n"
     ]
    }
   ],
   "source": [
    "print(f\"Декодированное сообщение: {Encoder(abc, freq_abc).decode_attack(code_message)}\")"
   ]
  },
  {
   "cell_type": "raw",
   "id": "civilian-supplement",
   "metadata": {},
   "source": []
  }
 ],
 "metadata": {
  "kernelspec": {
   "display_name": "Python 3",
   "language": "python",
   "name": "python3"
  },
  "language_info": {
   "codemirror_mode": {
    "name": "ipython",
    "version": 3
   },
   "file_extension": ".py",
   "mimetype": "text/x-python",
   "name": "python",
   "nbconvert_exporter": "python",
   "pygments_lexer": "ipython3",
   "version": "3.8.5"
  }
 },
 "nbformat": 4,
 "nbformat_minor": 5
}
