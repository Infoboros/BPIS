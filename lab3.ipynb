{
 "cells": [
  {
   "cell_type": "markdown",
   "id": "complicated-silence",
   "metadata": {},
   "source": [
    "# 3. Без ожидания (без очереди)\n",
    "    выполнил Сергей Харитонов ПВ-32\n",
    "\n",
    "# Задание\n",
    "На сервере есть n каналов передачи сообщений. Среднее время обработки сообщений τ. На сервер поступают сообщения в среднем количестве λ сообщений в минуту. Определить теоретически основные характеристики сервера (абсолютную пропускную способность, т.е. среднее число сообщений, обрабатываемых в единицу времени; относительную пропускную способность, т.е. среднюю долю пришедших сообщений, обрабатываемых системой; вероятность отказа в обработке; среднее число занятых каналов), если сообщение получает отказ при занятости всех каналов. Написать имитацию работы сервера и сравнить долю отказов в обработке. Параметры варианта определяются по формулам: n=3+[(i+j)/8], λ=1+i/4, τ=5/(5+j). Здесь квадратные скобки означают взятие целой части, а i,j - последние цифры зачетки."
   ]
  },
  {
   "cell_type": "code",
   "execution_count": 1,
   "id": "convertible-space",
   "metadata": {},
   "outputs": [],
   "source": [
    "# Последние 3 цифры зачетки\n",
    "i = 1\n",
    "j = 6\n",
    "k = 3"
   ]
  },
  {
   "cell_type": "code",
   "execution_count": 2,
   "id": "color-collar",
   "metadata": {},
   "outputs": [],
   "source": [
    "# класс для Сервера\n",
    "from random import random\n",
    "from math import factorial, exp, pow, sqrt, log\n",
    "\n",
    "class Server:\n",
    "    def __init__(self):\n",
    "        self.busy = [0, 0, 0]\n",
    "        self.current_time = 0\n",
    "        self.count_request = 0\n",
    "        self.count_not = 0\n",
    "\n",
    "    def get_random_request_time(self):\n",
    "        random_value = random()\n",
    "        # время через которое придет одна заявка\n",
    "        # Экспоненциальное распределение\n",
    "        return - 1 / (5./4.) * log(random_value)\n",
    "    \n",
    "    def get_random_respone_time(self):\n",
    "        random_value = random()\n",
    "        # время через которое придет одна заявка\n",
    "        # Экспоненциальное распределение\n",
    "        return - 1 / (11./5.) * log(random_value)\n",
    "        \n",
    "        \n",
    "    def step(self):\n",
    "        self.current_time += self.get_random_request_time()\n",
    "        self.count_request += 1\n",
    "        \n",
    "        if self.busy[0] < self.current_time:\n",
    "            self.busy[0] = self.current_time + self.get_random_respone_time()\n",
    "        elif self.busy[1] < self.current_time:\n",
    "            self.busy[1] = self.current_time + self.get_random_respone_time()\n",
    "        elif self.busy[2] < self.current_time:\n",
    "            self.busy[2] = self.current_time + self.get_random_respone_time()\n",
    "        else:\n",
    "            self.count_not += 1\n",
    "    #Гоняет сервер пока не придет n запросов, возвращает кол-во отказов\n",
    "    def run(self, n):\n",
    "        self.busy = [0, 0, 0]\n",
    "        self.count_request = 0\n",
    "        self.count_not = 0\n",
    "        self.current_time = 0\n",
    "        \n",
    "        while self.count_request < n:\n",
    "            self.step()\n",
    "        return self.count_not\n",
    "            "
   ]
  },
  {
   "cell_type": "code",
   "execution_count": 3,
   "id": "embedded-guatemala",
   "metadata": {},
   "outputs": [
    {
     "name": "stdout",
     "output_type": "stream",
     "text": [
      "Практическая вероятность отказа = 0.0173963\n",
      "Теоретическая вероятность отказа = 0.0173683\n",
      "|K| = 0.6772365513708847 < 1.96\n",
      "Согласно критерию сравнения долей гипотезы согласуются и мы правильно посчитали ручками.\n"
     ]
    }
   ],
   "source": [
    "server = Server()\n",
    "n = 10000000\n",
    "count_not = server.run(n)\n",
    "\n",
    "p_practice = count_not/server.count_request\n",
    "p_teor = 0.0173683\n",
    "print(f\"Практическая вероятность отказа = {p_practice}\")\n",
    "print(f\"Теоретическая вероятность отказа = {p_teor}\")\n",
    "print(f\"|K| = {abs((p_practice - p_teor) / (sqrt(p_practice * (1-p_practice) / n)))} < 1.96\\n\"\n",
    "\"Согласно критерию сравнения долей гипотезы согласуются и мы правильно посчитали ручками.\")"
   ]
  },
  {
   "cell_type": "code",
   "execution_count": null,
   "id": "romance-donor",
   "metadata": {},
   "outputs": [],
   "source": []
  }
 ],
 "metadata": {
  "kernelspec": {
   "display_name": "Python 3",
   "language": "python",
   "name": "python3"
  },
  "language_info": {
   "codemirror_mode": {
    "name": "ipython",
    "version": 3
   },
   "file_extension": ".py",
   "mimetype": "text/x-python",
   "name": "python",
   "nbconvert_exporter": "python",
   "pygments_lexer": "ipython3",
   "version": "3.8.5"
  }
 },
 "nbformat": 4,
 "nbformat_minor": 5
}
