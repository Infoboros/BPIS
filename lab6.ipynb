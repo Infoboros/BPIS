{
 "cells": [
  {
   "cell_type": "markdown",
   "id": "willing-honey",
   "metadata": {},
   "source": [
    "# Лабораторная работа No 6. RSA.\n",
    "    выполнил Сергей Харитонов ПВ-32 (Вариант 14)\n",
    "\n",
    "# Цель работы\n",
    "    освоить алгоритм RSA"
   ]
  },
  {
   "cell_type": "code",
   "execution_count": 1,
   "id": "ecological-cause",
   "metadata": {},
   "outputs": [],
   "source": [
    "# Сначала реализуем классы ключей\n",
    "class PrivatKey:\n",
    "    \n",
    "    def __init__(self, d: int, n: int):\n",
    "        self.d = d\n",
    "        self.n = n\n",
    "    \n",
    "    def __str__(self):\n",
    "        return f\"Приватный ключ ({self.d}; {self.n})\"\n",
    "    \n",
    "    def decode(self, x: int):\n",
    "#         возводим x в степень d по модулю n для декодирования \n",
    "        return pow(x, self.d, self.n)\n",
    "\n",
    "class PublicKey:\n",
    "    \n",
    "    def __init__(self, e: int, n: int):\n",
    "        self.e = e\n",
    "        self.n = n\n",
    "\n",
    "    def __str__(self):\n",
    "        return f\"Публичный ключ ({self.e}; {self.n})\"\n",
    "        \n",
    "    def code(self, x: int):\n",
    "#         возводим x в степень e по модулю n для декодирования \n",
    "        return pow(x, self.e, self.n)"
   ]
  },
  {
   "cell_type": "code",
   "execution_count": 2,
   "id": "expired-partition",
   "metadata": {},
   "outputs": [],
   "source": [
    "# теперь реализуем все необходимые функции для получения пары ключей\n",
    "\n",
    "# получение простых чисел в заданном диапазоне (решето эратосфена)\n",
    "def get_prime_numbers(start: int, stop: int) -> list:\n",
    "    a = [i for i in range(stop+1)]\n",
    "    a[1] = 0\n",
    "    primes = []\n",
    "\n",
    "    i = 2\n",
    "    while i <= stop:\n",
    "        if a[i] != 0:\n",
    "            primes.append(a[i])\n",
    "            for j in range(i, stop+1, i):\n",
    "                a[j] = 0\n",
    "        i += 1\n",
    "    \n",
    "    while primes and primes[0] < start:\n",
    "        primes.pop(0)\n",
    "    \n",
    "    return primes\n",
    "\n",
    "# возвращает True если числа взаимно простые\n",
    "def check_relative_prime(a: int, b: int):\n",
    "    for divisor in range(2, min(a, b) + 1):\n",
    "        if a % divisor == b % divisor == 0:\n",
    "            return False\n",
    "    return True"
   ]
  },
  {
   "cell_type": "code",
   "execution_count": 3,
   "id": "resistant-overview",
   "metadata": {},
   "outputs": [],
   "source": [
    "from random import choice\n",
    "# создает приватный и публичный ключ с n заданного размера\n",
    "def get_rsa_key(length) -> (PublicKey, PrivatKey):\n",
    "    \n",
    "#     находим границы для n через битовые сдвиги\n",
    "    n_min = 1 << (length * 2 - 1)\n",
    "    n_max = (1 << length * 2) - 1\n",
    "\n",
    "#   находим границы для p и q\n",
    "    start = 1 << (length - 1)\n",
    "    stop = 1 << (length + 1)\n",
    "    prime_numbers = get_prime_numbers(start, stop)\n",
    "\n",
    "#     случайно выбираем из p и q подходящую пару\n",
    "    while prime_numbers:\n",
    "        p = choice(prime_numbers)\n",
    "        prime_numbers.remove(p)\n",
    "        q_s = [q for q in prime_numbers\n",
    "                        if n_min <= p * q <= n_max]\n",
    "        if q_s:\n",
    "            q = choice(q_s)\n",
    "            break\n",
    "    \n",
    "#     Вычисляем фи(n) что бы найти e которое меньше его\n",
    "    f_n = (p - 1) * (q - 1)\n",
    "    for e in range(3, f_n):\n",
    "#         e и фи(n) должны быть взаимно простыми\n",
    "        if check_relative_prime(e, f_n):\n",
    "            break\n",
    "\n",
    "#     находим d удовлетворяющее условию d * e по модулю фи(n) = 1\n",
    "    for d in range(3, f_n):\n",
    "        if d * e % f_n == 1:\n",
    "            break\n",
    "\n",
    "#     генерируем два ключа Публичный и Приватный\n",
    "    return PublicKey(e, p*q), PrivatKey(d, p*q)"
   ]
  },
  {
   "cell_type": "code",
   "execution_count": 4,
   "id": "surface-gibson",
   "metadata": {},
   "outputs": [
    {
     "name": "stdout",
     "output_type": "stream",
     "text": [
      "Сообщение: error\n",
      "\n",
      "Размер ключа: 4\n",
      "Сгенерированный приватный ключ: Приватный ключ (147; 253)\n",
      "Сгенерированный публичный ключ: Публичный ключ (3; 253)\n",
      "\n",
      "Сообщение в числах: [101, 114, 114, 111, 114]\n",
      "Закодированное сообщение в числах: [85, 229, 229, 166, 229]\n",
      "\n",
      "Декодированное сообщение в числах: [101, 114, 114, 111, 114]\n",
      "Декодированное сообщение: error\n"
     ]
    }
   ],
   "source": [
    "message = \"error\"\n",
    "key_size = 4\n",
    "public, privat = get_rsa_key(key_size)\n",
    "\n",
    "int_message = [ord(sym) for sym in message]\n",
    "code_int_message = [public.code(el) for el in int_message]\n",
    "decode_int_message = [privat.decode(el) for el in code_int_message]\n",
    "decode_message = ''.join([chr(el) for el in decode_int_message])\n",
    "\n",
    "print(f\"Сообщение: {message}\")\n",
    "print()\n",
    "print(f\"Размер ключа: {key_size}\")\n",
    "print(f\"Сгенерированный приватный ключ: {str(privat)}\")\n",
    "print(f\"Сгенерированный публичный ключ: {str(public)}\")\n",
    "print()\n",
    "print(f\"Сообщение в числах: {int_message}\")\n",
    "print(f\"Закодированное сообщение в числах: {code_int_message}\")\n",
    "print()\n",
    "print(f\"Декодированное сообщение в числах: {decode_int_message}\")\n",
    "print(f\"Декодированное сообщение: {decode_message}\")"
   ]
  },
  {
   "cell_type": "code",
   "execution_count": null,
   "id": "vietnamese-particle",
   "metadata": {},
   "outputs": [],
   "source": []
  }
 ],
 "metadata": {
  "kernelspec": {
   "display_name": "Python 3",
   "language": "python",
   "name": "python3"
  },
  "language_info": {
   "codemirror_mode": {
    "name": "ipython",
    "version": 3
   },
   "file_extension": ".py",
   "mimetype": "text/x-python",
   "name": "python",
   "nbconvert_exporter": "python",
   "pygments_lexer": "ipython3",
   "version": "3.8.5"
  }
 },
 "nbformat": 4,
 "nbformat_minor": 5
}
