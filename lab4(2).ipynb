{
 "cells": [
  {
   "cell_type": "markdown",
   "id": "willing-honey",
   "metadata": {},
   "source": [
    "# Лабораторная работа No 4. Шифр Виженера.\n",
    "    выполнил Сергей Харитонов ПВ-32 (Вариант 14)\n",
    "\n",
    "# Цель работы\n",
    "    освоить алгоритм шифра Виженера; научиться шифровать и дешифровывать текст с помощью шифра Виженера."
   ]
  },
  {
   "cell_type": "code",
   "execution_count": 1,
   "id": "frequent-plain",
   "metadata": {},
   "outputs": [],
   "source": [
    "#Алфавит\n",
    "abc = \"abcdefghijklmnopqrstuvwxyz \"\n",
    "\n",
    "#Ключевое слово\n",
    "key = \"best\"\n",
    "\n",
    "#Зашифрованный текст\n",
    "message = \"mathematician and polymath al kindi also\"    +\\\n",
    "               \"known as alkindus in the century nearly all\" +\\\n",
    "               \"such ciphers became more or less readily\"    +\\\n",
    "               \"breakable by any informed attacker such\"     +\\\n",
    "               \"classical ciphers still enjoy popularity today\""
   ]
  },
  {
   "cell_type": "code",
   "execution_count": 2,
   "id": "stuffed-brand",
   "metadata": {},
   "outputs": [],
   "source": [
    "class EncoderVisiner:\n",
    "    \n",
    "    def __init__(self, abc: str, key: str):\n",
    "        self.abc = abc\n",
    "        self.key = key\n",
    "        self.current_pos_key = 0\n",
    "        \n",
    "    def __step_key(self):\n",
    "        self.current_pos_key += 1\n",
    "        if self.current_pos_key == len(self.key):\n",
    "            self.current_pos_key = 0\n",
    "    \n",
    "    def __decode_symbol(self, symbol: str) -> str:\n",
    "        pos_sym = self.abc.index(symbol)\n",
    "        pos_key = self.abc.index(self.key[self.current_pos_key])\n",
    "        self.__step_key()\n",
    "        return self.abc[(pos_sym - pos_key + len(self.abc)) % len(self.abc)]\n",
    "        \n",
    "    def decode(self, message: str) -> str:\n",
    "        self.current_pos_key = 0\n",
    "        return ''.join([self.__decode_symbol(sym) for sym in message])\n",
    "    \n",
    "    def __code_symbol(self, symbol: str) -> str:\n",
    "        pos_sym = self.abc.index(symbol)\n",
    "        pos_key = self.abc.index(self.key[self.current_pos_key])\n",
    "        self.__step_key()\n",
    "        return self.abc[(pos_sym + pos_key) % len(self.abc)]\n",
    "        \n",
    "    def code(self, message: str) -> str:\n",
    "        self.current_pos_key = 0\n",
    "        return ''.join([self.__code_symbol(sym) for sym in message])\n",
    "        \n",
    "        "
   ]
  },
  {
   "cell_type": "code",
   "execution_count": 3,
   "id": "protected-technician",
   "metadata": {},
   "outputs": [
    {
     "name": "stdout",
     "output_type": "stream",
     "text": [
      "Вы кодируете сообщение: mathematician and polymath al kindi alsoknown as alkindus in the century nearly allsuch ciphers became more or less readilybreakable by any informed attacker suchclassical ciphers still enjoy popularity today\n",
      "Используемый ключ: best\n",
      "Закодированное сообщение: nek fqsljg todsfedggmbdtulrtmdbaoh sbpjglrfoodskaeccjrvmtd faxzxagwfuyiqarwtsppsbpckvgzsdmg fvjsciutnirepvwspvrdfwjssiswjppusiscbfcxafpsbrpsjrxgsqwwaeklbgbxsdjmdludbwjadecsdmg fvjstx dmdwfkspsqsgmmeiaubrlphsq\n",
      "\n",
      "Вы декодируете сообщение: nek fqsljg todsfedggmbdtulrtmdbaoh sbpjglrfoodskaeccjrvmtd faxzxagwfuyiqarwtsppsbpckvgzsdmg fvjsciutnirepvwspvrdfwjssiswjppusiscbfcxafpsbrpsjrxgsqwwaeklbgbxsdjmdludbwjadecsdmg fvjstx dmdwfkspsqsgmmeiaubrlphsq\n",
      "Используемый ключ: best\n",
      "Дедированное сообщение: mathematician and polymath al kindi alsoknown as alkindus in the century nearly allsuch ciphers became more or less readilybreakable by any informed attacker suchclassical ciphers still enjoy popularity today\n",
      "\n"
     ]
    }
   ],
   "source": [
    "encoder = EncoderVisiner(abc, key)\n",
    "code_message = encoder.code(message)\n",
    "print(f\"Вы кодируете сообщение: {message}\\n\" +\\\n",
    "      f\"Используемый ключ: {key}\\n\" +\\\n",
    "      f\"Закодированное сообщение: {code_message}\\n\")\n",
    "\n",
    "decode_message = encoder.decode(code_message)\n",
    "print(f\"Вы декодируете сообщение: {code_message}\\n\" +\\\n",
    "      f\"Используемый ключ: {key}\\n\" +\\\n",
    "      f\"Декодированное сообщение: {decode_message}\\n\")"
   ]
  },
  {
   "cell_type": "raw",
   "id": "civilian-supplement",
   "metadata": {},
   "source": []
  }
 ],
 "metadata": {
  "kernelspec": {
   "display_name": "Python 3",
   "language": "python",
   "name": "python3"
  },
  "language_info": {
   "codemirror_mode": {
    "name": "ipython",
    "version": 3
   },
   "file_extension": ".py",
   "mimetype": "text/x-python",
   "name": "python",
   "nbconvert_exporter": "python",
   "pygments_lexer": "ipython3",
   "version": "3.8.5"
  }
 },
 "nbformat": 4,
 "nbformat_minor": 5
}
