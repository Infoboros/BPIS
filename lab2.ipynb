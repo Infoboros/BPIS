{
 "cells": [
  {
   "attachments": {
    "image.png": {
     "image/png": "[encoded data removed]"
    }
   },
   "cell_type": "markdown",
   "id": "complicated-silence",
   "metadata": {},
   "source": [
    "# 2. Муха в треугольнике\n",
    "    выполнил Сергей Харитонов ПВ-32\n",
    "\n",
    "# Задание\n",
    "Имеется треугольник с вершинами A, B, C. В начальный момент времени муха находится в вершине A. Каждую секунду муха перелетает в другую вершину или остается на месте. Ее поведение задается графом марковского процесса (смотри приложенный рисунок). \n",
    "1) Необходимо определить среднее время, через которое муха вернётся в вершину А. \n",
    "2) Написать программу, которая имитирует поведение мухи и выводит среднее количество переходов до первого возвращения в точку А. Сравните результаты.\n",
    "![image.png](attachment:image.png)"
   ]
  },
  {
   "cell_type": "code",
   "execution_count": 1,
   "id": "convertible-space",
   "metadata": {},
   "outputs": [],
   "source": [
    "# Последние 3 цифры зачетки\n",
    "i = 1\n",
    "j = 6\n",
    "k = 3"
   ]
  },
  {
   "cell_type": "code",
   "execution_count": 2,
   "id": "color-collar",
   "metadata": {},
   "outputs": [],
   "source": [
    "# класс для Мухи\n",
    "from random import random\n",
    "class Fly:\n",
    "    def __init__(self, start_state):\n",
    "        self.start_state = start_state\n",
    "        self.state = start_state\n",
    "\n",
    "    #полет Мухи возвращает следующее состояние\n",
    "    def step(self):\n",
    "        random_value = random()\n",
    "        \n",
    "        if self.state == \"A\":\n",
    "            if random_value < (6./9.):\n",
    "                self.state = \"B\"\n",
    "            else:\n",
    "                self.state = \"C\"\n",
    "                \n",
    "            return self.state\n",
    "        \n",
    "        if self.state == \"B\":\n",
    "            if random_value < (1./7.):\n",
    "                self.state = \"A\"\n",
    "            else:\n",
    "                self.state = \"C\"\n",
    "                \n",
    "            return self.state\n",
    "        \n",
    "        if self.state == \"C\":\n",
    "            if random_value < (1./10.):\n",
    "                self.state = \"A\"\n",
    "            elif random_value < (7./10.):\n",
    "                self.state = \"B\"\n",
    "            else:\n",
    "                self.state = \"C\"\n",
    "                \n",
    "            return self.state\n",
    "        \n",
    "    #возвращает время до возврата в начальное положение\n",
    "    def run_to_return(self):\n",
    "        self.state = self.start_state\n",
    "        count_step = 0\n",
    "        \n",
    "        while True:\n",
    "            count_step += 1\n",
    "            self.step()\n",
    "            if (self.state == self.start_state):\n",
    "                return count_step"
   ]
  },
  {
   "cell_type": "code",
   "execution_count": 3,
   "id": "embedded-guatemala",
   "metadata": {},
   "outputs": [
    {
     "name": "stdout",
     "output_type": "stream",
     "text": [
      "Эмпирическое среднее время до возврата в А = 9.464392\n",
      "Теоретическое среднее время до возврата в А = 9.46154\n",
      "Разница между полученными данными и посчитанными = 0.002852000000000743\n",
      "Как можно увидеть мы правильно посчитали, разница не большая.\n"
     ]
    }
   ],
   "source": [
    "# создаем муху с начальным состоянием A\n",
    "fly = Fly('A')\n",
    "n = 1000000\n",
    "generate_result = [fly.run_to_return() for _ in range(n)]\n",
    "avg_ret_A = sum(generate_result)/len(generate_result)\n",
    "print(f\"Эмпирическое среднее время до возврата в А = {avg_ret_A}\")\n",
    "print(\"Теоретическое среднее время до возврата в А = 9.46154\")\n",
    "print(f\"Разница между полученными данными и посчитанными = {avg_ret_A - 9.46154}\")\n",
    "print(\"Как можно увидеть мы правильно посчитали, разница не большая.\")"
   ]
  },
  {
   "cell_type": "code",
   "execution_count": null,
   "id": "united-looking",
   "metadata": {},
   "outputs": [],
   "source": []
  }
 ],
 "metadata": {
  "kernelspec": {
   "display_name": "Python 3",
   "language": "python",
   "name": "python3"
  },
  "language_info": {
   "codemirror_mode": {
    "name": "ipython",
    "version": 3
   },
   "file_extension": ".py",
   "mimetype": "text/x-python",
   "name": "python",
   "nbconvert_exporter": "python",
   "pygments_lexer": "ipython3",
   "version": "3.8.5"
  }
 },
 "nbformat": 4,
 "nbformat_minor": 5
}
