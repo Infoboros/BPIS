{
 "cells": [
  {
   "cell_type": "markdown",
   "id": "willing-honey",
   "metadata": {},
   "source": [
    "# Лабораторная работа No 5. DES.\n",
    "    выполнил Сергей Харитонов ПВ-32 (Вариант 14)\n",
    "\n",
    "# Цель работы\n",
    "    освоить алгоритм шифра DES"
   ]
  },
  {
   "cell_type": "code",
   "execution_count": 1,
   "id": "frequent-plain",
   "metadata": {},
   "outputs": [],
   "source": [
    "# Начальная перестановка\n",
    "P_start = [\n",
    "    58, 50, 42, 34, 26, 18, 10, 2,\n",
    "    60, 52, 44, 36, 28, 20, 12, 4,\n",
    "    62, 54, 46, 38, 30, 22, 14, 6,\n",
    "    64, 56, 48, 40, 32, 24, 16, 8,\n",
    "    57, 49, 41, 33, 25, 17,  9, 1,\n",
    "    59, 51, 43, 35, 27, 19, 11, 3, \n",
    "    61, 53, 45, 37, 29, 21, 13, 5,\n",
    "    63, 55, 47, 39, 31, 23, 15, 7\n",
    "]\n",
    "\n",
    "# Конечная перестановка\n",
    "P_finish = [\n",
    "    40,  8, 48, 16, 56, 24, 64, 32,\n",
    "    39,  7, 47, 15, 55, 23, 63, 31,\n",
    "    38,  6, 46, 14, 54, 22, 62, 30,\n",
    "    37,  5, 45, 13, 53, 21, 61, 29,\n",
    "    36,  4, 44, 12, 52, 20, 60, 28,\n",
    "    35,  3, 43, 11, 51, 19, 59, 27,\n",
    "    34,  2, 42, 10, 50, 18, 58, 26,\n",
    "    33,  1, 41,  9, 49, 17, 57, 25,\n",
    "]\n",
    "\n",
    "# Блок расширения\n",
    "P_extern = [\n",
    "    32,  1,  2,  3,  4,  5,\n",
    "     4,  5,  6,  7,  8,  9,\n",
    "     8,  9, 10, 11, 12, 13,\n",
    "    12, 13, 14, 15, 16, 17,\n",
    "    16, 17, 18, 19, 20, 21,\n",
    "    20, 21, 22, 23, 24, 25,\n",
    "    24, 25, 26, 27, 28, 29,\n",
    "    28, 29, 30, 31, 32,  1\n",
    "]\n",
    "\n",
    "# Прямой блок\n",
    "P_smooth = [\n",
    "    16,  7, 20, 21, 29, 12, 28, 17,\n",
    "     1, 15, 23, 26,  5, 18, 31, 10,\n",
    "     2,  8, 24, 14, 32, 27,  3,  9,\n",
    "    19, 13, 30,  6, 22, 11,  4, 25\n",
    "]\n",
    "\n",
    "# Массив S блоков\n",
    "S_arr = [\n",
    "    [\n",
    "        [14,  4, 13,  1,  2, 15, 11,  8,  3, 10,  6, 12,  5,  9,  0,  7],\n",
    "        [ 0, 15,  7,  4, 14,  2, 13,  1, 10,  6, 12, 11,  9,  5,  3,  8],\n",
    "        [ 4,  1, 14,  8, 13,  6,  2, 11, 15, 12,  9,  7,  3, 10,  5,  0],\n",
    "        [15, 12,  8,  2,  4,  9,  1,  7,  5, 11,  3, 14, 10,  0,  6, 13]\n",
    "    ],\n",
    "    [\n",
    "        [15,  1,  8, 14,  6, 11,  3,  4,  9,  7,  2, 13, 12,  0,  5, 10],\n",
    "        [ 3, 13,  4,  7, 15,  2,  8, 14, 12,  0,  1, 10,  6,  9, 11,  5],\n",
    "        [ 0, 14,  7, 11, 10,  4, 13,  1,  5,  8, 12,  6,  9,  3,  2, 15],\n",
    "        [13,  8, 10,  1,  3, 15,  4,  2, 11,  6,  7, 12,  0,  5, 14,  9]\n",
    "    ],\n",
    "    [\n",
    "        [10,  0,  9, 14,  6,  3, 15,  5,  1, 13, 12,  7, 11,  4,  2,  8],\n",
    "        [13,  7,  0,  9,  3,  4,  6, 10,  2,  8,  5, 14, 12, 11, 15,  1],\n",
    "        [13,  6,  4,  9,  8, 15,  3,  0, 11,  1,  2, 12,  5, 10, 14,  7],\n",
    "        [ 1, 10, 13,  0,  6,  9,  8,  7,  4, 15, 14,  3, 11,  5,  2, 12]\n",
    "    ],\n",
    "    [\n",
    "        [ 7, 13, 14,  3,  0,  6,  9, 10,  1,  2,  8,  5, 11, 12,  4, 15],\n",
    "        [13,  8, 11,  5,  6, 15,  0,  3,  4,  7,  2, 12,  1, 10, 14,  9],\n",
    "        [10,  6,  9,  0, 12, 11,  7, 13, 15,  1,  3, 14,  5,  2,  8,  4],\n",
    "        [ 3, 15,  0,  6, 10,  1, 13,  8,  9,  4,  5, 11, 12,  7,  2, 14]\n",
    "    ],\n",
    "    [\n",
    "        [ 2, 12,  4,  1,  7, 10, 11,  6,  8,  5,  3, 15, 13,  0, 14,  9],\n",
    "        [14, 11,  2, 12,  4,  7, 13,  1,  5,  0, 15, 10,  3,  9,  8,  6],\n",
    "        [ 4,  2,  1, 11, 10, 13,  7,  8, 15,  9, 12,  5,  6,  3,  0, 14],\n",
    "        [11,  8, 12,  7,  1, 14,  2, 13,  6, 15,  0,  9, 10,  4,  5,  3]\n",
    "    ],\n",
    "    [\n",
    "        [12,  1, 10, 15,  9,  2,  6,  8,  0, 13,  3,  4, 14,  7,  5, 11],\n",
    "        [10, 15,  4,  2,  7, 12,  9,  5,  6,  1, 13, 14,  0, 11,  3,  8],\n",
    "        [ 9, 14, 15,  5,  2,  8, 12,  3,  7,  0,  4, 10,  1, 13, 11,  6],\n",
    "        [ 4,  3,  2, 12,  9,  5, 15, 10, 11, 14,  1,  7,  6,  0,  8, 13]\n",
    "    ],\n",
    "    [\n",
    "        [ 4, 11,  2, 14, 15,  0,  8, 13,  3, 12,  9,  7,  5, 10,  6,  1],\n",
    "        [13,  0, 11,  7,  4,  9,  1, 10, 14,  3,  5, 12,  2, 15,  8,  6],\n",
    "        [ 1,  4, 11, 13, 12,  3,  7, 14, 10, 15,  6,  8,  0,  5,  9,  2],\n",
    "        [ 6, 11, 13,  8,  1,  4, 10,  7,  9,  5,  0, 15, 14,  2,  3, 12]\n",
    "    ],\n",
    "    [\n",
    "        [13,  2,  8,  4,  6, 15, 11,  1, 10,  9,  3, 14,  5,  0, 12,  7],\n",
    "        [ 1, 15, 13,  8, 10,  3,  7,  4, 12,  5,  6, 11,  0, 14,  9,  2],\n",
    "        [ 7, 11,  4,  1,  9, 12, 14,  2,  0,  6, 10, 13, 15,  3,  5,  8],\n",
    "        [ 2,  1, 14,  7,  4, 10,  8, 13, 15, 12,  9,  0,  3,  5,  6, 11]\n",
    "    ],\n",
    "]\n",
    "\n",
    "# массив для получения 56 битного ключа из 64\n",
    "P_get_key = [\n",
    "    57, 49, 41, 33, 25, 17,  9,  1, 58, 50, 42, 34, 26, 18,\n",
    "    10,  2, 59, 51, 43, 35, 27, 19, 11,  3, 60, 52, 44, 36,\n",
    "    63, 55, 47, 39, 31, 23, 15,  7, 62, 54, 46, 38, 30, 22,\n",
    "    14,  6, 61, 53, 45, 37, 29, 21, 13,  5, 28, 20, 12,  4\n",
    "]\n",
    "\n",
    "# массив говорящий на сколько нужно сдвигать CD\n",
    "circle_cd_arr = [\n",
    "    1, 1, 2, 2, 2, 2, 2, 2, 1, 2, 2, 2, 2, 2, 2, 1\n",
    "]\n",
    "\n",
    "# блок для получения ключа из CD\n",
    "P_get_key_from_cd = [\n",
    "    14, 17, 11, 24,  1,  5,  3, 28, 15,  6, 21, 10, 23, 19, 12,  4,\n",
    "    26,  8, 16,  7, 27, 20, 13,  2, 41, 52, 31, 37, 47, 55, 30, 40,\n",
    "    51, 45, 33, 48, 44, 49, 39, 56, 34, 53, 46, 42, 50, 36, 29, 32\n",
    "\n",
    "]"
   ]
  },
  {
   "cell_type": "markdown",
   "id": "metric-image",
   "metadata": {},
   "source": [
    "        Создать подпрограмму, которая выполняет функцию P-блока, прямого и расширения, используя таблицы перестановок. Подпрограмма принимает блок данных и соответствующую таблицу (начальной перестановки, конечной перестановки или P-блока расширения), возвращает после операции блок данных."
   ]
  },
  {
   "cell_type": "code",
   "execution_count": 2,
   "id": "pharmaceutical-collection",
   "metadata": {},
   "outputs": [],
   "source": [
    "def P(data_block: list, P_table: list) -> list:\n",
    "    return [data_block[index-1] for index in P_table]"
   ]
  },
  {
   "cell_type": "markdown",
   "id": "talented-restriction",
   "metadata": {},
   "source": [
    "        Создать подпрограмму - отбеливатель, которая выполняет функцию отбеливания двух равных блоков данных (XOR). Подпрограмма принимает два блока данных, и возвращает блок данных, который является результатом проведения операции XOR (исключающее или) между двумя принятыми блоками."
   ]
  },
  {
   "cell_type": "code",
   "execution_count": 3,
   "id": "conceptual-drilling",
   "metadata": {},
   "outputs": [],
   "source": [
    "def whitener(data_block_f: list, data_block_s: list) -> list:\n",
    "    return [data_block_f[index] ^ data_block_s[index] for index in range(len(data_block_f))]"
   ]
  },
  {
   "cell_type": "markdown",
   "id": "configured-yield",
   "metadata": {},
   "source": [
    "        Создать подпрограмму, которая выполняет функцию S-блока, используя таблицы смешивания. Подпрограмма принимает блок данных, массив таблиц (правила для S-блоков), после операции смешивания возвращает блок данных."
   ]
  },
  {
   "cell_type": "code",
   "execution_count": 4,
   "id": "spanish-algebra",
   "metadata": {},
   "outputs": [],
   "source": [
    "# напишем пару вспомогательных функций\n",
    "def get_s_cord(data_block: list) -> (int, int):\n",
    "    # Возвращает координаты числа в S таблице по блоку данных из 6ти битов\n",
    "    return (data_block[0]*2 + data_block[-1],\n",
    "            data_block[1]*8 + data_block[2]*4 + data_block[3]*2 + data_block[4])\n",
    "\n",
    "def get_bit_list(number: int, extern_to:int = 4) -> list:\n",
    "    # Возвращает массив битов числа, дополняет нулями до extern_to битов\n",
    "    result = []\n",
    "    while number:\n",
    "        result = [number & 1] + result\n",
    "        number >>= 1\n",
    "        \n",
    "    if len(result) < extern_to:\n",
    "        result = [0]*(extern_to-len(result)) + result\n",
    "        \n",
    "    return result\n",
    "\n",
    "def bits_to_hex(bits: list) -> str:\n",
    "    result = 0\n",
    "    for bit in bits:\n",
    "        result |= bit\n",
    "        result <<= 1\n",
    "    result >>= 1\n",
    "    return hex(result)[2:]\n",
    "\n",
    "def S(data_block: list, S_arr:list) -> list:\n",
    "    #Выполняет S блок\n",
    "    result = []\n",
    "    for n in range(8):\n",
    "        start_pos = n*6\n",
    "        piece_block = data_block[start_pos: start_pos+6]\n",
    "        \n",
    "        s_cord = get_s_cord(piece_block)\n",
    "        number = S_arr[n][s_cord[0]][s_cord[1]]\n",
    "        \n",
    "        result += get_bit_list(number)\n",
    "    return result\n",
    "        "
   ]
  },
  {
   "cell_type": "markdown",
   "id": "automated-marshall",
   "metadata": {},
   "source": [
    "        Создать подпрограмму, которая реализует основную функцию DES, с помощью подпрограмм, описанных в предыдущих пунктах. Подпрограмма принимает блок данных длиной 32 бита и 48-битный ключ. Функция DES содержит P-блок расширения, отбеливатель, группу S-блоков и прямой P-блок. Подпрограмма возвращает 32-битовое слово."
   ]
  },
  {
   "cell_type": "code",
   "execution_count": 5,
   "id": "proprietary-factory",
   "metadata": {},
   "outputs": [],
   "source": [
    "def F(data_block: list, key: list, show_process: bool = False):\n",
    "    extern = P(data_block, P_extern)\n",
    "    xored  = whitener(extern, key)\n",
    "    sed    = S(xored, S_arr)\n",
    "    result = P(sed, P_smooth)\n",
    "    \n",
    "    if show_process:\n",
    "        print(f\"Ключ:              {bits_to_hex(key)}\")\n",
    "        print(f\"На входе:          {bits_to_hex(data_block)}\")\n",
    "        print(f\"После расширения:  {bits_to_hex(extern)}\")\n",
    "        print(f\"После отбеливания: {bits_to_hex(xored)}\")\n",
    "        print(f\"После смешивания:  {bits_to_hex(sed)}\")\n",
    "        print(f\"Результат:         {bits_to_hex(result)}\")\n",
    "    \n",
    "    return result"
   ]
  },
  {
   "cell_type": "markdown",
   "id": "chronic-prescription",
   "metadata": {},
   "source": [
    "        С помощью подпрограммы, реализующей основную функцию DES, зашифровать блок данных соответствующий варианту c помощью ключа. Показать, как изменялся блок данных на каждом из этапов. Блок данных представляет собой четыре байта в шестнадцатеричном виде, ключ шесть байтов."
   ]
  },
  {
   "cell_type": "code",
   "execution_count": 6,
   "id": "defensive-filename",
   "metadata": {},
   "outputs": [
    {
     "name": "stdout",
     "output_type": "stream",
     "text": [
      "Ключ:              b2eba2363bed\n",
      "На входе:          c0f537d1\n",
      "После расширения:  e017aa9afea3\n",
      "После отбеливания: 52fc08acc54e\n",
      "После смешивания:  62b0e651\n",
      "Результат:         47348b8c\n"
     ]
    }
   ],
   "source": [
    "data_block = get_bit_list(int(\"C0F537D1\", 16), 32)\n",
    "key        = get_bit_list(int(\"B2EBA2363BED\", 16), 48)\n",
    "\n",
    "f_result   = F(data_block, key, True)"
   ]
  },
  {
   "cell_type": "markdown",
   "id": "impressed-british",
   "metadata": {},
   "source": [
    "        Создать подпрограмму, которая принимает блок данных и разбивает его на два равных."
   ]
  },
  {
   "cell_type": "code",
   "execution_count": 7,
   "id": "opposed-stewart",
   "metadata": {},
   "outputs": [],
   "source": [
    "def split_data_block(data_block: list) -> (list, list):\n",
    "    center = len(data_block)//2\n",
    "    return (data_block[:center], data_block[center:])"
   ]
  },
  {
   "cell_type": "markdown",
   "id": "plastic-shark",
   "metadata": {},
   "source": [
    "        Создать подпрограмму, которая принимает блок данных и число, циклически сдвигает содержимое влево на принятое число."
   ]
  },
  {
   "cell_type": "code",
   "execution_count": 8,
   "id": "desperate-chess",
   "metadata": {},
   "outputs": [],
   "source": [
    "def l_circle(data_block: list, count: int) -> list:\n",
    "    new_data_block = data_block.copy()\n",
    "    for _ in range(count):\n",
    "        first = new_data_block.pop(0)\n",
    "        new_data_block.append(first)\n",
    "    return new_data_block"
   ]
  },
  {
   "cell_type": "markdown",
   "id": "loose-binary",
   "metadata": {},
   "source": [
    "        Создать подпрограмму которая реализует алгоритм генерации ключей раунда, используя подпрограмму P-блока из предыдущей лабораторной работы, а также подпрограммы, реализованные в предыдущих пунктах. Таблица удаления проверочных битов, таблица, которая содержит число сдвигаемых битов в раунде и таблица сжатия ключа находится в приложении."
   ]
  },
  {
   "cell_type": "code",
   "execution_count": 9,
   "id": "ruled-prize",
   "metadata": {},
   "outputs": [],
   "source": [
    "def gen_keys(key_for_key: list) -> list:\n",
    "    key56 = P(key_for_key, P_get_key)\n",
    "    cd_arr = [key56]\n",
    "    for shift in circle_cd_arr:\n",
    "        left, right = split_data_block(cd_arr[-1])\n",
    "        left  = l_circle(left, shift)\n",
    "        right = l_circle(right, shift)\n",
    "        cd_arr.append(left+right)\n",
    "    cd_arr = cd_arr[1:]\n",
    "    return [P(cd, P_get_key_from_cd) for cd in cd_arr]"
   ]
  },
  {
   "cell_type": "markdown",
   "id": "broken-support",
   "metadata": {},
   "source": [
    "        Выполнить задание своего варианта. С помощью созданной подпрограммы генерации ключей и данного в варианте ключа сгенерировать ключи раунда."
   ]
  },
  {
   "cell_type": "code",
   "execution_count": 10,
   "id": "municipal-swedish",
   "metadata": {},
   "outputs": [
    {
     "name": "stdout",
     "output_type": "stream",
     "text": [
      "Ключ номер 1: 43717521587c\n",
      "Ключ номер 2: 4ee47dda4e50\n",
      "Ключ номер 3: cfc51a99e318\n",
      "Ключ номер 4: 6e8babb17600\n",
      "Ключ номер 5: bbb80bf82226\n",
      "Ключ номер 6: 292edab46a8e\n",
      "Ключ номер 7: 747c9c3432d3\n",
      "Ключ номер 8: 56ad50b7a063\n",
      "Ключ номер 9: d2697563438f\n",
      "Ключ номер 10: 8de72556118b\n",
      "Ключ номер 11: c317afc6116d\n",
      "Ключ номер 12: f992e142bbe8\n",
      "Ключ номер 13: 91daea709d39\n",
      "Ключ номер 14: b073d64b1c3a\n",
      "Ключ номер 15: 345f454d7938\n",
      "Ключ номер 16: 6e3d509cce21\n"
     ]
    }
   ],
   "source": [
    "key_for_key = get_bit_list(int(\"85BD31AC83EC69EC\", 16), 64)\n",
    "keys = gen_keys(key_for_key)\n",
    "for i in range(16):\n",
    "    print(f\"Ключ номер {i+1}: {bits_to_hex(keys[i])}\")"
   ]
  },
  {
   "cell_type": "markdown",
   "id": "considered-wholesale",
   "metadata": {},
   "source": [
    "        На основе предыдущих лабораторных работ реализовать алгоритм шифрования DES."
   ]
  },
  {
   "cell_type": "code",
   "execution_count": 11,
   "id": "solar-honolulu",
   "metadata": {},
   "outputs": [],
   "source": [
    "def DES(data_block: list, key_for_keys: list):\n",
    "    keys = gen_keys(key_for_keys)\n",
    "    start_shape = P(data_block, P_start)\n",
    "    tmp_data_block = start_shape\n",
    "    for key in keys:\n",
    "        left, rigth = split_data_block(tmp_data_block)\n",
    "        f_value = F(rigth, key)\n",
    "        \n",
    "        new_rigth = whitener(left, f_value)\n",
    "        new_left  = rigth\n",
    "#         print(f\"Левая часть: {bits_to_hex(new_left)}, Правая часть: {bits_to_hex(new_rigth)}, Ключ: {bits_to_hex(key)}\")\n",
    "        tmp_data_block = new_left + new_rigth\n",
    "    rigth, left = split_data_block(tmp_data_block)\n",
    "    finish_shape = P(left+rigth, P_finish)\n",
    "    return finish_shape"
   ]
  },
  {
   "cell_type": "markdown",
   "id": "practical-processing",
   "metadata": {},
   "source": [
    "        Программно реализовать режим шифрования ECB."
   ]
  },
  {
   "cell_type": "code",
   "execution_count": 12,
   "id": "educated-chemistry",
   "metadata": {},
   "outputs": [],
   "source": [
    "def ECB(hex_data: str, key_for_keys: list):\n",
    "    result_data = \"\"\n",
    "    while(hex_data):\n",
    "        cur_data_block = get_bit_list(int(hex_data[:16], 16), 64)\n",
    "        hex_data = hex_data[16:]\n",
    "        \n",
    "        coded_data_block = DES(cur_data_block, key_for_keys)\n",
    "        \n",
    "        result_data += bits_to_hex(coded_data_block)\n",
    "    return result_data"
   ]
  },
  {
   "cell_type": "markdown",
   "id": "still-eleven",
   "metadata": {},
   "source": [
    "    Программно реализовать режим шифрования CBC."
   ]
  },
  {
   "cell_type": "code",
   "execution_count": 13,
   "id": "thousand-lyric",
   "metadata": {},
   "outputs": [],
   "source": [
    "def CBC(hex_data: str, key_for_keys: list, hex_c0: str):\n",
    "    c = get_bit_list(int(hex_c0, 16), 64)\n",
    "    result_data = \"\"\n",
    "    while(hex_data):\n",
    "        cur_data_block = get_bit_list(int(hex_data[:16], 16), 64)\n",
    "        hex_data = hex_data[16:]\n",
    "        \n",
    "        cur_data_block = whitener(cur_data_block, c)\n",
    "        coded_data_block = DES(cur_data_block, key_for_keys)\n",
    "        c = coded_data_block\n",
    "        \n",
    "        result_data += bits_to_hex(coded_data_block)\n",
    "    return result_data"
   ]
  },
  {
   "cell_type": "markdown",
   "id": "detailed-warning",
   "metadata": {},
   "source": [
    "        Программно реализовать режим шифрования CFB."
   ]
  },
  {
   "cell_type": "code",
   "execution_count": 14,
   "id": "detailed-michigan",
   "metadata": {},
   "outputs": [],
   "source": [
    "def CFB(hex_data: str, key_for_keys: list, hex_c0: str, j: int):\n",
    "    c = get_bit_list(int(hex_c0, 16), 64)\n",
    "    bit_data = get_bit_list(int(hex_data, 16))\n",
    "    result_data = []\n",
    "    \n",
    "    while(bit_data):\n",
    "        c   = DES(c, key_for_keys)\n",
    "        c_j = c[:j]\n",
    "        \n",
    "        bit_data_j = bit_data[:j]\n",
    "        bit_data   = bit_data[j:]\n",
    "#         расширяем до размера c если надо\n",
    "        if (len(c_j) > len(bit_data_j)):\n",
    "            bit_data_j = [0]*(len(c_j) - len(bit_data_j)) + bit_data_j\n",
    "        \n",
    "        code_bit_data_j = whitener(c_j, bit_data_j)\n",
    "        result_data += code_bit_data_j\n",
    "        \n",
    "        c = [0]*(64 - len(code_bit_data_j)) + code_bit_data_j\n",
    "        \n",
    "    return bits_to_hex(result_data)"
   ]
  },
  {
   "cell_type": "markdown",
   "id": "jewish-supervisor",
   "metadata": {},
   "source": [
    "        Зашифровать текст своего варианта каждым из режимов шифрования."
   ]
  },
  {
   "cell_type": "code",
   "execution_count": 15,
   "id": "corporate-elizabeth",
   "metadata": {},
   "outputs": [
    {
     "name": "stdout",
     "output_type": "stream",
     "text": [
      "Кодируемая строка: Дайтечеловекувсё,чегоонжелает,ивтужеминутуонпочувствует,чтоэтовсёнеестьвсё.\n",
      "Кодируемая строка в HEX: d094d0b0d0b9d182d0b5d187d0b5d0bbd0bed0b2d0b5d0bad183d0b2d181d1912cd187d0b5d0b3d0bed0bed0bdd0b6d0b5d0bbd0b0d0b5d1822cd0b8d0b2d182d183d0b6d0b5d0bcd0b8d0bdd183d182d183d0bed0bdd0bfd0bed187d183d0b2d181d182d0b2d183d0b5d1822cd187d182d0bed18dd182d0bed0b2d181d191d0bdd0b5d0b5d181d182d18cd0b2d181d1912e\n",
      "Вектор начальной инициализации в HEX: 3837363534333231\n",
      "\n",
      "Ключ в HEX: 835F06B30AC1031D\n",
      "Ключ в битах: [1, 0, 0, 0, 0, 0, 1, 1, 0, 1, 0, 1, 1, 1, 1, 1, 0, 0, 0, 0, 0, 1, 1, 0, 1, 0, 1, 1, 0, 0, 1, 1, 0, 0, 0, 0, 1, 0, 1, 0, 1, 1, 0, 0, 0, 0, 0, 1, 0, 0, 0, 0, 0, 0, 1, 1, 0, 0, 0, 1, 1, 1, 0, 1]\n",
      "\n",
      "ECB в HEX: b70b5ad57d07e6c5aefc4e5b1a238204ec49af8e33eb08adb886e58b743d31e9a44bf5ab1708895680b2645b858d69925709b229e07b56926c4aa069526ce4d8699a7c58d02bbda8944457e2d37ffe2732629cadef1c96564c5d4fe802e65e3972fb3e3cc78cb6d0ad98bc8534f9c06c5c12f4a740faab418a152a1b145dbc1917b54109f517834b1c33a230f3e88abb99c9d235ba78bde\n",
      "\n",
      "CBC в HEX: 4592b17ea84b5a144b5cd9496b5349361dd378fdf04bf2627b9be29e15bf8d869f5a1f784737fc93e591ee7a8abf8b7f52f12324c3ae45d76253ba1f787f691450c735305c52f386a1a90a8f8b880dbad7fdc3af79e005c8d0e23781e354e6f94a3210512f07e378e477823a0bd6a78341ad332e8cc4c0c5a244b3d2faee2cbdc7e1c981ef9d917e457363ec359e873b0bda542a653672f\n",
      "\n",
      "CFB в HEX: 8b62915e8ec30fb41e97b954d59b3fd383532f250af710bff7272565d426b8ee76c128fc38a795454def840832187b511079ef953898bcfa6484e55088f4fba12e7d03ec32cb5db134d910a8f4a48d2dd41af18e7976dd69a2e8a82553a75656c0cfad1b265f0ffc32feb8afad97ea04fccaa4eaa3fde806eca5413deab830f62c598b827bf30af4cbf10bb4bbb88159a1b22a720d06eb1e\n"
     ]
    }
   ],
   "source": [
    "import binascii\n",
    "  \n",
    "def str2hex(s):\n",
    "    return binascii.hexlify(bytes(str.encode(s))).decode('utf-8')\n",
    " \n",
    "data_str = \"Дайтечеловекувсё,чегоонжелает,ивтужеминутуонпочувствует,чтоэтовсёнеестьвсё.\"\n",
    "key_for_key_hex = \"835F06B30AC1031D\"\n",
    "c0_hex = \"3837363534333231\"\n",
    "j = 64\n",
    "\n",
    "data_hex = str2hex(data_str)\n",
    "key_for_key = get_bit_list(int(key_for_key_hex, 16), 64)\n",
    "\n",
    "ECB_hex = ECB(data_hex, key_for_key)\n",
    "CBC_hex = CBC(data_hex, key_for_key, c0_hex)\n",
    "CFB_hex = CFB(data_hex, key_for_key, c0_hex, j)\n",
    "\n",
    "print(f\"Кодируемая строка: {data_str}\")\n",
    "print(f\"Кодируемая строка в HEX: {data_hex}\")\n",
    "print(f\"Вектор начальной инициализации в HEX: {c0_hex}\")\n",
    "print()\n",
    "print(f\"Ключ в HEX: {key_for_key_hex}\")\n",
    "print(f\"Ключ в битах: {key_for_key}\")\n",
    "print()\n",
    "print(f\"ECB в HEX: {ECB_hex}\")\n",
    "print()\n",
    "print(f\"CBC в HEX: {CBC_hex}\")\n",
    "print()\n",
    "print(f\"CFB в HEX: {CFB_hex}\")"
   ]
  }
 ],
 "metadata": {
  "kernelspec": {
   "display_name": "Python 3",
   "language": "python",
   "name": "python3"
  },
  "language_info": {
   "codemirror_mode": {
    "name": "ipython",
    "version": 3
   },
   "file_extension": ".py",
   "mimetype": "text/x-python",
   "name": "python",
   "nbconvert_exporter": "python",
   "pygments_lexer": "ipython3",
   "version": "3.8.5"
  }
 },
 "nbformat": 4,
 "nbformat_minor": 5
}
